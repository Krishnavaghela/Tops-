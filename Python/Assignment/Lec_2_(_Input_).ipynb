{
  "nbformat": 4,
  "nbformat_minor": 0,
  "metadata": {
    "colab": {
      "provenance": []
    },
    "kernelspec": {
      "name": "python3",
      "display_name": "Python 3"
    },
    "language_info": {
      "name": "python"
    }
  },
  "cells": [
    {
      "cell_type": "markdown",
      "source": [
        "1.\tWrite a Python program to take two numbers as input from the user and display their sum.\n",
        "2.\tCalculate and print the midpoint of two numbers entered by the user.\n",
        "3.\tWrite a Python program to calculate the area of a triangle using the formula: area = 0.5 * base * height.\n",
        "4.\tTake three numbers as input from the user and display their product.\n",
        "5.\tTake a number as input and display its square and cube.\n",
        "6.\tTake two numbers as input and display their quotient and remainder.\n",
        "7.\tTake three numbers as input and display their average.\n",
        "8.\tWrite a Python program to calculate the area of a rectangle using the formula: area = length * width.\n",
        "9.\tTake five numbers as input representing marks obtained and total marks.\n",
        "Display the percentage.\n",
        "\n"
      ],
      "metadata": {
        "id": "b933ZGyFh5Wl"
      }
    },
    {
      "cell_type": "code",
      "source": [
        "#Write a Python program to take two numbers as input from the user and display their sum\n",
        "\n",
        "\n",
        "num1=int(input(\"Enter a 1st num =\"))\n",
        "num2=int(input(\"Enter a 2nd num =\"))\n",
        "\n",
        "add = num1 + num2\n",
        "\n",
        "print(\"Addition of two num\",add)"
      ],
      "metadata": {
        "id": "WSVXSLhti4Uf",
        "colab": {
          "base_uri": "https://localhost:8080/"
        },
        "outputId": "4d58ed58-37d5-43a8-d64b-ea585dbef4bd"
      },
      "execution_count": null,
      "outputs": [
        {
          "output_type": "stream",
          "name": "stdout",
          "text": [
            "Enter a 1st num =10\n",
            "Enter a 2nd num =15\n",
            "Addition of two num 25\n"
          ]
        }
      ]
    },
    {
      "cell_type": "code",
      "source": [
        "# Calculate and print the midpoint of two numbers entered by the user.\n",
        "\n",
        "num1=int(input(\"Enter a 1st num =\"))\n",
        "num2=int(input(\"Enter a 2nd num =\"))\n",
        "\n",
        "mid = (num1 + num2)/2\n",
        "\n",
        "print(\"mid point of two num\",mid)"
      ],
      "metadata": {
        "colab": {
          "base_uri": "https://localhost:8080/"
        },
        "id": "f6tEkVFokXMQ",
        "outputId": "64899873-ec7b-4970-e366-ddab9f0a5ef2"
      },
      "execution_count": null,
      "outputs": [
        {
          "output_type": "stream",
          "name": "stdout",
          "text": [
            "Enter a 1st num =20\n",
            "Enter a 2nd num =30\n",
            "mid point of two num 25.0\n"
          ]
        }
      ]
    },
    {
      "cell_type": "code",
      "source": [
        "# Write a Python program to calculate the area of a triangle using the formula: area = 0.5 * base * height.\n",
        "\n",
        "base = int(input(\"enter base value =\"))\n",
        "hight = int(input(\"enter hight =\"))\n",
        "\n",
        "area = 0.5 * base * hight\n",
        "\n",
        "print(\"area of triangle\",area)"
      ],
      "metadata": {
        "colab": {
          "base_uri": "https://localhost:8080/"
        },
        "id": "RA1AbMVBlPE-",
        "outputId": "9d97f92b-5995-4a6f-f166-9d1d0e4a6ab2"
      },
      "execution_count": null,
      "outputs": [
        {
          "output_type": "stream",
          "name": "stdout",
          "text": [
            "enter base value =25\n",
            "enter hight =12\n",
            "area of triangle 150.0\n"
          ]
        }
      ]
    },
    {
      "cell_type": "code",
      "source": [
        "# Take three numbers as input from the user and display their product.\n",
        "\n",
        "num1=int(input(\"Enter a 1st num =\"))\n",
        "num2=int(input(\"Enter a 2nd num =\"))\n",
        "num3=int(input(\"Enter a 3rd num =\"))\n",
        "\n",
        "product = num1 * num2 * num3\n",
        "\n",
        "print(\"product of three num\",product)"
      ],
      "metadata": {
        "colab": {
          "base_uri": "https://localhost:8080/"
        },
        "id": "ZAQPP5UhmIpR",
        "outputId": "b63c2b2a-10e7-4e8b-a79a-0fbc91c579c7"
      },
      "execution_count": null,
      "outputs": [
        {
          "output_type": "stream",
          "name": "stdout",
          "text": [
            "Enter a 1st num =2\n",
            "Enter a 2nd num =3\n",
            "Enter a 3rd num =5\n",
            "product of three num 30\n"
          ]
        }
      ]
    },
    {
      "cell_type": "code",
      "source": [
        "# Take a number as input and display its square and cube.\n",
        "\n",
        "num1=int(input(\"Enter a 1st num =\"))\n",
        "\n",
        "square=num1**2\n",
        "\n",
        "print(\"square of num1\",square)"
      ],
      "metadata": {
        "colab": {
          "base_uri": "https://localhost:8080/"
        },
        "id": "ixGGTZLpm2-3",
        "outputId": "8218fbc6-6472-4b5e-ba0a-b2de09cc40c1"
      },
      "execution_count": null,
      "outputs": [
        {
          "output_type": "stream",
          "name": "stdout",
          "text": [
            "Enter a 1st num =9\n",
            "square of num1 81\n"
          ]
        }
      ]
    },
    {
      "cell_type": "code",
      "source": [
        "# Take two numbers as input and display their quotient and remainder.\n",
        "\n",
        "num1=int(input(\"Enter a 1st num =\"))\n",
        "num2=int(input(\"Enter a 2nd num =\"))\n",
        "\n",
        "quotient = num1 // num2\n",
        "remainder = num1 % num2\n",
        "\n",
        "print(\"quotient of two num\",quotient)\n",
        "print(\"remainder of two num\",remainder)"
      ],
      "metadata": {
        "colab": {
          "base_uri": "https://localhost:8080/"
        },
        "id": "EtrpZSGpn5mR",
        "outputId": "5b438020-b1ed-4e08-e364-a3de63c4960f"
      },
      "execution_count": null,
      "outputs": [
        {
          "output_type": "stream",
          "name": "stdout",
          "text": [
            "Enter a 1st num =100\n",
            "Enter a 2nd num =30\n",
            "quotient of two num 3\n",
            "remainder of two num 10\n"
          ]
        }
      ]
    },
    {
      "cell_type": "code",
      "source": [
        "# Take three numbers as input and display their average.\n",
        "\n",
        "num1=int(input(\"Enter a 1st num =\"))\n",
        "num2=int(input(\"Enter a 2nd num =\"))\n",
        "num3=int(input(\"Enter a 3rd num =\"))\n",
        "\n",
        "avg = (num1 + num2 + num3)/3\n",
        "\n",
        "print(\"Average of three num\",avg)"
      ],
      "metadata": {
        "colab": {
          "base_uri": "https://localhost:8080/"
        },
        "id": "iTzZgxj7p428",
        "outputId": "5a254878-2b1c-4987-d963-4842fefcf359"
      },
      "execution_count": null,
      "outputs": [
        {
          "output_type": "stream",
          "name": "stdout",
          "text": [
            "Enter a 1st num =50\n",
            "Enter a 2nd num =60\n",
            "Enter a 3rd num =80\n",
            "Average of three num 63.333333333333336\n"
          ]
        }
      ]
    },
    {
      "cell_type": "code",
      "source": [
        "# Write a Python program to calculate the area of a rectangle using the formula: area = length * width.\n",
        "\n",
        "length = int(input(\"Enter length =\"))\n",
        "width = int(input(\"Enter width =\"))\n",
        "\n",
        "area= length * width\n",
        "\n",
        "print(\"area of rectangle\",area)"
      ],
      "metadata": {
        "colab": {
          "base_uri": "https://localhost:8080/"
        },
        "id": "5-7RjGTUqj8R",
        "outputId": "2ed0506e-551a-42f2-be43-b7cc858452b7"
      },
      "execution_count": null,
      "outputs": [
        {
          "output_type": "stream",
          "name": "stdout",
          "text": [
            "Enter length =6\n",
            "Enter width =8\n",
            "area of rectangle 48\n"
          ]
        }
      ]
    },
    {
      "cell_type": "code",
      "source": [
        "# Take five numbers as input representing marks obtained and total marks. Display the percentage.\n",
        "\n",
        "num1=int(input(\"Enter a 1st num =\"))\n",
        "num2=int(input(\"Enter a 2nd num =\"))\n",
        "num3=int(input(\"Enter a 3rd num =\"))\n",
        "num4=int(input(\"Enter a 4th num =\"))\n",
        "num5=int(input(\"Enter a 5th num =\"))\n",
        "\n",
        "total  = num1 + num2 + num3 + num4 + num5\n",
        "\n",
        "percentage = (total/500)*100\n",
        "\n",
        "print(\"total marks\",total)\n",
        "print(\"percentage\",percentage)\n"
      ],
      "metadata": {
        "colab": {
          "base_uri": "https://localhost:8080/"
        },
        "id": "uFKUxkBJrsrF",
        "outputId": "55a5b78a-13d2-4a60-bdbc-4a3e2eebcdd4"
      },
      "execution_count": null,
      "outputs": [
        {
          "output_type": "stream",
          "name": "stdout",
          "text": [
            "Enter a 1st num =65\n",
            "Enter a 2nd num =58\n",
            "Enter a 3rd num =73\n",
            "Enter a 4th num =88\n",
            "Enter a 5th num =75\n",
            "total marks 359\n",
            "percentage 71.8\n"
          ]
        }
      ]
    }
  ]
}