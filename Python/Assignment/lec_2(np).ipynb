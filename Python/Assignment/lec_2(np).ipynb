{
  "nbformat": 4,
  "nbformat_minor": 0,
  "metadata": {
    "colab": {
      "provenance": []
    },
    "kernelspec": {
      "name": "python3",
      "display_name": "Python 3"
    },
    "language_info": {
      "name": "python"
    }
  },
  "cells": [
    {
      "cell_type": "code",
      "execution_count": null,
      "metadata": {
        "id": "slXhWGG2LQV0"
      },
      "outputs": [],
      "source": [
        "import numpy as np"
      ]
    },
    {
      "cell_type": "code",
      "source": [
        "# transpose\n"
      ],
      "metadata": {
        "id": "QNkwvl3nThhl"
      },
      "execution_count": null,
      "outputs": []
    },
    {
      "cell_type": "code",
      "source": [
        "# reshape\n",
        "a= np.array(np.random.randint(10,45,(2,4,6)))\n",
        "print(a)\n",
        "print(b.shape)\n",
        "print(b.size)"
      ],
      "metadata": {
        "colab": {
          "base_uri": "https://localhost:8080/"
        },
        "id": "iKokPx8mPWqL",
        "outputId": "b323fd18-4722-4e3a-c44a-01e44643870c"
      },
      "execution_count": null,
      "outputs": [
        {
          "output_type": "stream",
          "name": "stdout",
          "text": [
            "[[[31 25 36 39 14 35]\n",
            "  [30 30 35 10 16 36]\n",
            "  [12 31 16 39 25 13]\n",
            "  [12 21 37 37 20 11]]\n",
            "\n",
            " [[18 28 37 41 20 30]\n",
            "  [24 20 21 24 43 26]\n",
            "  [35 15 32 14 18 40]\n",
            "  [22 21 29 13 12 27]]]\n",
            "(4, 3, 6)\n",
            "72\n"
          ]
        }
      ]
    },
    {
      "cell_type": "code",
      "source": [
        "# resize\n",
        "b= np.resize(a,(4,3,6))\n",
        "print(b)\n",
        "print(b.shape)\n",
        "print(b.size)"
      ],
      "metadata": {
        "colab": {
          "base_uri": "https://localhost:8080/"
        },
        "id": "M9hiaJQ_PpNV",
        "outputId": "e62e7487-09b5-457c-8b1f-df6b75eb4fa0"
      },
      "execution_count": null,
      "outputs": [
        {
          "output_type": "stream",
          "name": "stdout",
          "text": [
            "[[[31 29 31 16 37 43]\n",
            "  [39 28 41 30 34 22]\n",
            "  [41 39 21 14 27 32]]\n",
            "\n",
            " [[17 13 33 12 37 40]\n",
            "  [18 17 32 18 26 21]\n",
            "  [21 40 28 22 10 30]]\n",
            "\n",
            " [[29 12 13 21 28 34]\n",
            "  [43 34 41 25 32 27]\n",
            "  [31 29 31 16 37 43]]\n",
            "\n",
            " [[39 28 41 30 34 22]\n",
            "  [41 39 21 14 27 32]\n",
            "  [17 13 33 12 37 40]]]\n",
            "(4, 3, 6)\n",
            "72\n"
          ]
        }
      ]
    },
    {
      "cell_type": "code",
      "source": [
        "# flatten\n",
        "b.flatten()"
      ],
      "metadata": {
        "colab": {
          "base_uri": "https://localhost:8080/"
        },
        "id": "wP9HLS97Q3Xm",
        "outputId": "cd3883e7-9e26-4847-840c-307cb5f71ada"
      },
      "execution_count": null,
      "outputs": [
        {
          "output_type": "execute_result",
          "data": {
            "text/plain": [
              "array([31, 29, 31, 16, 37, 43, 39, 28, 41, 30, 34, 22, 41, 39, 21, 14, 27,\n",
              "       32, 17, 13, 33, 12, 37, 40, 18, 17, 32, 18, 26, 21, 21, 40, 28, 22,\n",
              "       10, 30, 29, 12, 13, 21, 28, 34, 43, 34, 41, 25, 32, 27, 31, 29, 31,\n",
              "       16, 37, 43, 39, 28, 41, 30, 34, 22, 41, 39, 21, 14, 27, 32, 17, 13,\n",
              "       33, 12, 37, 40])"
            ]
          },
          "metadata": {},
          "execution_count": 8
        }
      ]
    },
    {
      "cell_type": "code",
      "source": [
        "# view\n",
        "a=[1,2,3]\n",
        "b=a\n",
        "b[0]=10\n",
        "print(a)\n",
        "print(b)"
      ],
      "metadata": {
        "colab": {
          "base_uri": "https://localhost:8080/"
        },
        "id": "PDrAoyk1SZ8F",
        "outputId": "8b207a32-63a0-4d13-a589-0e6b492b01b9"
      },
      "execution_count": null,
      "outputs": [
        {
          "output_type": "stream",
          "name": "stdout",
          "text": [
            "[10, 2, 3]\n",
            "[10, 2, 3]\n"
          ]
        }
      ]
    },
    {
      "cell_type": "code",
      "source": [
        "# copy\n",
        "aa=[1,2,3]\n",
        "bb=aa.copy()\n",
        "bb[0]=10\n",
        "print(aa)\n",
        "print(bb)"
      ],
      "metadata": {
        "colab": {
          "base_uri": "https://localhost:8080/"
        },
        "id": "YDtSsqnmSxbx",
        "outputId": "0543cb9c-d172-4fde-f2e2-89ca8643f759"
      },
      "execution_count": null,
      "outputs": [
        {
          "output_type": "stream",
          "name": "stdout",
          "text": [
            "[1, 2, 3]\n",
            "[10, 2, 3]\n"
          ]
        }
      ]
    },
    {
      "cell_type": "code",
      "source": [
        "# Question 1: Given a 1D NumPy array arr_1d, extract and print the first element.\n",
        "\n",
        "arr_1d = np.array([1, 2, 3, 4, 5])\n",
        "print(arr_1d[0])\n"
      ],
      "metadata": {
        "colab": {
          "base_uri": "https://localhost:8080/"
        },
        "id": "IN229SGdTsmW",
        "outputId": "fc356615-cb6a-42c3-e358-743406523015"
      },
      "execution_count": null,
      "outputs": [
        {
          "output_type": "stream",
          "name": "stdout",
          "text": [
            "1\n"
          ]
        }
      ]
    },
    {
      "cell_type": "code",
      "source": [
        "# Question 2: Given a 1D NumPy array arr_1d, extract and print the last three elements.\n",
        "\n",
        "arr_1d = np.array([1, 2, 3, 4, 5])\n",
        "print(arr_1d[2:5])"
      ],
      "metadata": {
        "colab": {
          "base_uri": "https://localhost:8080/"
        },
        "id": "fbAERMtYUC-q",
        "outputId": "2cf28db4-f53e-4a90-ffa7-6eff14494c32"
      },
      "execution_count": null,
      "outputs": [
        {
          "output_type": "stream",
          "name": "stdout",
          "text": [
            "[3 4 5]\n"
          ]
        }
      ]
    },
    {
      "cell_type": "code",
      "source": [
        "# Question 3: Given a 2D NumPy array arr_2d, extract and print the element at the second row and third column.\n",
        "\n",
        "arr_2d = np.array([[1, 2, 3], [4, 5, 6], [7, 8, 9]])\n",
        "print(arr_2d[1,2])\n"
      ],
      "metadata": {
        "colab": {
          "base_uri": "https://localhost:8080/"
        },
        "id": "2TGcTZFMUVRG",
        "outputId": "eeba95c3-1b62-4efa-a4ac-74b3e8a34bfa"
      },
      "execution_count": null,
      "outputs": [
        {
          "output_type": "stream",
          "name": "stdout",
          "text": [
            "6\n"
          ]
        }
      ]
    },
    {
      "cell_type": "code",
      "source": [
        "# Question 4: Given a 2D NumPy array arr_2d, extract and print the first row.\n",
        "\n",
        "arr_2d = np.array([[1, 2, 3], [4, 5, 6], [7, 8, 9]])\n",
        "print(arr_2d[0,])\n"
      ],
      "metadata": {
        "colab": {
          "base_uri": "https://localhost:8080/"
        },
        "id": "hSQBv5IpVQlE",
        "outputId": "8f6e46bd-bc9d-48a7-8e18-f67334a71a48"
      },
      "execution_count": null,
      "outputs": [
        {
          "output_type": "stream",
          "name": "stdout",
          "text": [
            "[1 2 3]\n"
          ]
        }
      ]
    },
    {
      "cell_type": "code",
      "source": [
        "# Question 5: Given a 2D NumPy array arr_2d, extract and print the last column.\n",
        "\n",
        "arr_2d = np.array([[1, 2, 3], [4, 5, 6], [7, 8, 9]])\n",
        "print(arr_2d[:,2])\n"
      ],
      "metadata": {
        "colab": {
          "base_uri": "https://localhost:8080/"
        },
        "id": "zDnS1AabVeF8",
        "outputId": "919883f3-d383-405f-ff35-d27423b338cd"
      },
      "execution_count": null,
      "outputs": [
        {
          "output_type": "stream",
          "name": "stdout",
          "text": [
            "[3 6 9]\n"
          ]
        }
      ]
    },
    {
      "cell_type": "code",
      "source": [
        "# Question 6: Given a 3D NumPy array arr_3d, extract and print the element at the second matrix, third row, and third column.\n",
        "\n",
        "arr_3d = np.array([[[1, 2, 3], [4, 5, 6], [7, 8, 9]], [[10, 11, 12], [13, 14, 15], [16, 17, 18]]])\n",
        "print(arr_3d[1,2,2])"
      ],
      "metadata": {
        "colab": {
          "base_uri": "https://localhost:8080/"
        },
        "id": "GKDL3fKYVpBY",
        "outputId": "13c3df32-9dcb-4ac8-e3a1-be619a70b7c9"
      },
      "execution_count": null,
      "outputs": [
        {
          "output_type": "stream",
          "name": "stdout",
          "text": [
            "18\n"
          ]
        }
      ]
    },
    {
      "cell_type": "code",
      "source": [
        "# Question 7: Given a 3D NumPy array arr_3d, extract and print the first matrix.\n",
        "\n",
        "arr_3d = np.array([[[1, 2, 3], [4, 5, 6], [7, 8, 9]], [[10, 11, 12], [13, 14, 15], [16, 17, 18]]])\n",
        "print(arr_3d[0,])"
      ],
      "metadata": {
        "colab": {
          "base_uri": "https://localhost:8080/"
        },
        "id": "3j_g4EGVXZ9Y",
        "outputId": "b3879580-ee7e-4c3d-c4b5-f41a6be94374"
      },
      "execution_count": null,
      "outputs": [
        {
          "output_type": "stream",
          "name": "stdout",
          "text": [
            "[[1 2 3]\n",
            " [4 5 6]\n",
            " [7 8 9]]\n"
          ]
        }
      ]
    },
    {
      "cell_type": "code",
      "source": [
        "# Question 8: Given a 3D NumPy array arr_3d, extract and print the last matrix.\n",
        "\n",
        "arr_3d = np.array([[[1, 2, 3], [4, 5, 6], [7, 8, 9]], [[10, 11, 12], [13, 14, 15],[16,17,18]]])\n",
        "print(arr_3d[-1,])"
      ],
      "metadata": {
        "colab": {
          "base_uri": "https://localhost:8080/"
        },
        "id": "dJHDUEZCXi3A",
        "outputId": "504d328c-b0a2-4daf-978f-24c30124d1b5"
      },
      "execution_count": null,
      "outputs": [
        {
          "output_type": "stream",
          "name": "stdout",
          "text": [
            "[[10 11 12]\n",
            " [13 14 15]\n",
            " [16 17 18]]\n"
          ]
        }
      ]
    },
    {
      "cell_type": "code",
      "source": [
        "# Question 1: Transpose Array Given a 2D NumPy array arr_2d, transpose the array and print the result.\n",
        "\n",
        "arr_2d = np.array([[1, 2, 3], [4, 5, 6]])\n",
        "a = np.transpose(arr_2d)\n",
        "a"
      ],
      "metadata": {
        "colab": {
          "base_uri": "https://localhost:8080/"
        },
        "id": "ZHDLZkG7YOFb",
        "outputId": "663361b9-2152-4d50-9a14-0c14fc4fb02f"
      },
      "execution_count": null,
      "outputs": [
        {
          "output_type": "execute_result",
          "data": {
            "text/plain": [
              "array([[1, 4],\n",
              "       [2, 5],\n",
              "       [3, 6]])"
            ]
          },
          "metadata": {},
          "execution_count": 39
        }
      ]
    },
    {
      "cell_type": "code",
      "source": [
        "# Question 2: Reshape Array Given a 1D NumPy array arr_1d, reshape it into a 3x2 array and print the result.\n",
        "\n",
        "arr_1d = np.array([1, 2, 3, 4, 5, 6])\n",
        "b = np.reshape(arr_1d,(3,2))\n",
        "b\n"
      ],
      "metadata": {
        "colab": {
          "base_uri": "https://localhost:8080/"
        },
        "id": "uUjNdZyaYjm0",
        "outputId": "6f8d707c-4484-4fcf-b552-a79d2792a1aa"
      },
      "execution_count": null,
      "outputs": [
        {
          "output_type": "execute_result",
          "data": {
            "text/plain": [
              "array([[1, 2],\n",
              "       [3, 4],\n",
              "       [5, 6]])"
            ]
          },
          "metadata": {},
          "execution_count": 40
        }
      ]
    },
    {
      "cell_type": "code",
      "source": [
        "# Question 3: Resize Array Given a 1D NumPy array arr_1d, resize it into a 3x3 array and print the result.\n",
        "\n",
        "arr_1d = np.array([1, 2, 3, 4, 5, 6, 7, 8])\n",
        "c = np.resize(arr_1d,(3,3))\n",
        "c"
      ],
      "metadata": {
        "colab": {
          "base_uri": "https://localhost:8080/"
        },
        "id": "VJpYS7f0Y6pM",
        "outputId": "0a4d0355-8657-4d10-a421-1f44fcad0a66"
      },
      "execution_count": null,
      "outputs": [
        {
          "output_type": "execute_result",
          "data": {
            "text/plain": [
              "array([[1, 2, 3],\n",
              "       [4, 5, 6],\n",
              "       [7, 8, 1]])"
            ]
          },
          "metadata": {},
          "execution_count": 41
        }
      ]
    },
    {
      "cell_type": "code",
      "source": [
        "# Question 4: Flatten Array Given a 2D NumPy array arr_2d, flatten it and print the result.\n",
        "\n",
        "arr_2d = np.array([[1, 2, 3], [4, 5, 6]])\n",
        "d= arr_2d.flatten()\n",
        "d"
      ],
      "metadata": {
        "colab": {
          "base_uri": "https://localhost:8080/"
        },
        "id": "dOHYuxvPZKdt",
        "outputId": "ab67348f-4e40-44c2-abff-c2aa698bd09a"
      },
      "execution_count": null,
      "outputs": [
        {
          "output_type": "execute_result",
          "data": {
            "text/plain": [
              "array([1, 2, 3, 4, 5, 6])"
            ]
          },
          "metadata": {},
          "execution_count": 44
        }
      ]
    },
    {
      "cell_type": "code",
      "source": [
        "# Question 5: Transpose Array Given a 3D NumPy array arr_3d, transpose the array and print the result.\n",
        "\n",
        "arr_3d = np.array([[[1, 2], [3, 4]], [[5, 6], [7, 8]], [[9, 10], [11, 12]]])\n",
        "e = np.transpose(arr_3d)\n",
        "e"
      ],
      "metadata": {
        "colab": {
          "base_uri": "https://localhost:8080/"
        },
        "id": "mxrWla79ZYGd",
        "outputId": "ad4a0cf9-73bc-4777-a1bd-cfef9a503ecd"
      },
      "execution_count": null,
      "outputs": [
        {
          "output_type": "execute_result",
          "data": {
            "text/plain": [
              "array([[[ 1,  5,  9],\n",
              "        [ 3,  7, 11]],\n",
              "\n",
              "       [[ 2,  6, 10],\n",
              "        [ 4,  8, 12]]])"
            ]
          },
          "metadata": {},
          "execution_count": 53
        }
      ]
    },
    {
      "cell_type": "code",
      "source": [
        "# Question 6: Reshape Array Given a 1D NumPy array arr_1d, reshape it into a 4x3 array and print the result.\n",
        "\n",
        "arr_1d = np.array([1, 2, 3, 4, 5, 6, 7, 8, 9, 10, 11, 12])\n",
        "\n",
        "f = np.reshape(arr_1d,(4,3))\n",
        "f"
      ],
      "metadata": {
        "colab": {
          "base_uri": "https://localhost:8080/"
        },
        "id": "dhXUpeBRaYYk",
        "outputId": "ba37196a-0e04-4295-9f65-d5287893b18d"
      },
      "execution_count": null,
      "outputs": [
        {
          "output_type": "execute_result",
          "data": {
            "text/plain": [
              "array([[ 1,  2,  3],\n",
              "       [ 4,  5,  6],\n",
              "       [ 7,  8,  9],\n",
              "       [10, 11, 12]])"
            ]
          },
          "metadata": {},
          "execution_count": 49
        }
      ]
    },
    {
      "cell_type": "code",
      "source": [
        "# Question 7: Resize Array Given a 2D NumPy array arr_2d, resize it into a 4x4 array and print the result.\n",
        "\n",
        "arr_2d = np.array([[1, 2], [3, 4]])\n",
        "g = np.resize(arr_2d,(4,4))\n",
        "g"
      ],
      "metadata": {
        "colab": {
          "base_uri": "https://localhost:8080/"
        },
        "id": "4skSBWz3a0dt",
        "outputId": "86001f66-afcd-4042-f429-fddfcc8dda1f"
      },
      "execution_count": null,
      "outputs": [
        {
          "output_type": "execute_result",
          "data": {
            "text/plain": [
              "array([[1, 2, 3, 4],\n",
              "       [1, 2, 3, 4],\n",
              "       [1, 2, 3, 4],\n",
              "       [1, 2, 3, 4]])"
            ]
          },
          "metadata": {},
          "execution_count": 50
        }
      ]
    },
    {
      "cell_type": "code",
      "source": [
        "# Question 8: Flatten Array Given a 3D NumPy array arr_3d, flatten it and print the result.\n",
        "\n",
        "arr_3d = np.array([[[1, 2], [3, 4]], [[5, 6], [7, 8]]])\n",
        "h = arr_3d.flatten()\n",
        "h"
      ],
      "metadata": {
        "colab": {
          "base_uri": "https://localhost:8080/"
        },
        "id": "qJkW0V5dbPEj",
        "outputId": "62169aca-265e-4465-a658-63d8fbd13570"
      },
      "execution_count": null,
      "outputs": [
        {
          "output_type": "execute_result",
          "data": {
            "text/plain": [
              "array([1, 2, 3, 4, 5, 6, 7, 8])"
            ]
          },
          "metadata": {},
          "execution_count": 51
        }
      ]
    }
  ]
}