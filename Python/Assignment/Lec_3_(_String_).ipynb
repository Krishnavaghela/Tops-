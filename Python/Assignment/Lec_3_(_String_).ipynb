{
  "nbformat": 4,
  "nbformat_minor": 0,
  "metadata": {
    "colab": {
      "provenance": []
    },
    "kernelspec": {
      "name": "python3",
      "display_name": "Python 3"
    },
    "language_info": {
      "name": "python"
    }
  },
  "cells": [
    {
      "cell_type": "markdown",
      "source": [
        "Q1 Write a Python program that accepts a string from user. Your program should create and display a new string where the first and last characters have been exchanged.\n",
        "\n",
        "For example if the user enters the string 'HELLO' then new string would be 'OELLH'"
      ],
      "metadata": {
        "id": "R7YYTlRTJGnu"
      }
    },
    {
      "cell_type": "code",
      "execution_count": 19,
      "metadata": {
        "id": "xUgKDWcJJBwb",
        "colab": {
          "base_uri": "https://localhost:8080/"
        },
        "outputId": "37ba3c1a-ca2b-458d-b897-bc3c9ba85544"
      },
      "outputs": [
        {
          "output_type": "stream",
          "name": "stdout",
          "text": [
            "enter a string:krishna\n",
            "arishnk\n"
          ]
        }
      ],
      "source": [
        "string=input(\"enter a string:\")\n",
        "first_char=string[0]\n",
        "last_char=string[-1]\n",
        "ans=last_char+string[1:(len(string)-1)]+first_char\n",
        "print(ans)"
      ]
    },
    {
      "cell_type": "markdown",
      "source": [
        "Q2 Write a Python program that accepts a string from user. Your program should create a new string in reverse of first string and display it.\n",
        "\n",
        "For example if the user enters the string 'EXAM' then new string would be 'MAXE'"
      ],
      "metadata": {
        "id": "KlBKKZUfJLWy"
      }
    },
    {
      "cell_type": "code",
      "source": [
        "str=input(\"enter a string:\")\n",
        "print(str[::])\n",
        "print(str[::-1])"
      ],
      "metadata": {
        "id": "rGdKcBseJF_c",
        "colab": {
          "base_uri": "https://localhost:8080/"
        },
        "outputId": "565c4e2e-233e-4db0-d91f-e8fdc2cf2fca"
      },
      "execution_count": null,
      "outputs": [
        {
          "output_type": "stream",
          "name": "stdout",
          "text": [
            "enter a string:EXAM\n",
            "EXAM\n",
            "MAXE\n"
          ]
        }
      ]
    },
    {
      "cell_type": "markdown",
      "source": [
        "Q3 Write a Python program that accepts a string from user. Your program should create a new string by shifting one position to left.\n",
        "\n",
        "For example if the user enters the string 'examination 2021' then new string would be 'xamination 2021e'"
      ],
      "metadata": {
        "id": "vI6h0j6EJXN7"
      }
    },
    {
      "cell_type": "code",
      "source": [
        "str=input(\"enter a string:\")\n",
        "print(str[::])\n",
        "print(str[1::]+str[0])"
      ],
      "metadata": {
        "id": "X_yXSRYhJhyV",
        "colab": {
          "base_uri": "https://localhost:8080/"
        },
        "outputId": "4981d78f-a34f-4454-9f54-176ea2be95a1"
      },
      "execution_count": null,
      "outputs": [
        {
          "output_type": "stream",
          "name": "stdout",
          "text": [
            "enter a string:examination 2021\n",
            "examination 2021\n",
            "xamination 2021e\n"
          ]
        }
      ]
    },
    {
      "cell_type": "markdown",
      "source": [
        "Q4 Write a Python program to calculate the length of a string."
      ],
      "metadata": {
        "id": "RcpZlQ1uJiHH"
      }
    },
    {
      "cell_type": "code",
      "source": [
        "str=input(\"enter a string:\")\n",
        "print(len(str))"
      ],
      "metadata": {
        "id": "tYfZmeLw1J9R",
        "colab": {
          "base_uri": "https://localhost:8080/"
        },
        "outputId": "08845fa3-a23b-4582-901a-98d8914ba43a"
      },
      "execution_count": null,
      "outputs": [
        {
          "output_type": "stream",
          "name": "stdout",
          "text": [
            "enter a string:Krishna\n",
            "7\n"
          ]
        }
      ]
    },
    {
      "cell_type": "markdown",
      "source": [
        "Q5 Write a Python program to get a string made of the first 2 and last 2 characters of a given string. If the string length is less than 2, return the empty string instead.\n",
        "Sample String : 'w3resource'\n",
        "Expected Result : 'w3ce'\n",
        "Sample String : 'w3'\n",
        "Expected Result : 'w3w3'\n",
        "Sample String : ' w'\n",
        "Expected Result : Empty String"
      ],
      "metadata": {
        "id": "kZ-tq4KG1KtZ"
      }
    },
    {
      "cell_type": "code",
      "source": [
        "str=input(\"enter a string:\")\n",
        "if len(str)>2:\n",
        "  print(str[0:2]+str[-2:])\n",
        "else:\n",
        "  print(\"Empty String\")"
      ],
      "metadata": {
        "id": "k1UDXqBy1dlb",
        "colab": {
          "base_uri": "https://localhost:8080/"
        },
        "outputId": "2a0b0de9-f098-4222-ae17-224b3c09ecd7"
      },
      "execution_count": null,
      "outputs": [
        {
          "output_type": "stream",
          "name": "stdout",
          "text": [
            "enter a string:w3resource\n",
            "w3ce\n"
          ]
        }
      ]
    },
    {
      "cell_type": "markdown",
      "source": [
        "Q6 Write a Python program to add 'ing' at the end of a given string (length should be at least 3). If the given string already ends with 'ing', add 'ly' instead. If the string length of the given string is less than 3, leave it unchanged.\n",
        "Sample String : 'abc'\n",
        "Expected Result : 'abcing'\n",
        "Sample String : 'string'\n",
        "Expected Result : 'stringly'"
      ],
      "metadata": {
        "id": "fLmjxBVH1dv7"
      }
    },
    {
      "cell_type": "code",
      "source": [
        "s = input(\"enter a strong :\")\n",
        "if len(s)>=3:\n",
        "  print(s+\"ing\")\n",
        "  if \"ing\" in s:\n",
        "    print(s.replace(\"ing\",\"ly\"))\n",
        "else:\n",
        "  print(s)"
      ],
      "metadata": {
        "id": "aDBLGj7o1xDG",
        "colab": {
          "base_uri": "https://localhost:8080/"
        },
        "outputId": "8fcb223c-d476-4ff7-b569-68fa3a2b35d6"
      },
      "execution_count": 8,
      "outputs": [
        {
          "output_type": "stream",
          "name": "stdout",
          "text": [
            "enter a strong :read\n",
            "reading\n"
          ]
        }
      ]
    },
    {
      "cell_type": "markdown",
      "source": [
        "Q7 Write a Python program to remove the nth index character from a nonempty string."
      ],
      "metadata": {
        "id": "Ni87_gWx1yAM"
      }
    },
    {
      "cell_type": "code",
      "source": [
        "s = input(\"enter a string : \")\n",
        "print(s[0:(len(s)-1)])\n"
      ],
      "metadata": {
        "id": "qQKUKvze2Kz0",
        "colab": {
          "base_uri": "https://localhost:8080/"
        },
        "outputId": "45f24d22-9f6f-4d77-ead1-d51523a3790e"
      },
      "execution_count": 24,
      "outputs": [
        {
          "output_type": "stream",
          "name": "stdout",
          "text": [
            "enter a string : krishna\n",
            "krishn\n"
          ]
        }
      ]
    },
    {
      "cell_type": "markdown",
      "source": [
        "Q8 Write a Python program to change a given string to a newly string where the first and last chars have been exchanged."
      ],
      "metadata": {
        "id": "JV7rvO032LvA"
      }
    },
    {
      "cell_type": "code",
      "source": [
        "s = input(\"enter a string : \")\n",
        "first_char=s[0]\n",
        "last_char=s[-1]\n",
        "new_s = last_char+s[1:(len(s)-1)]+first_char\n",
        "print(new_s)\n"
      ],
      "metadata": {
        "id": "OnyZ4Qms2TTJ",
        "colab": {
          "base_uri": "https://localhost:8080/"
        },
        "outputId": "74f55e37-38a1-4c29-bb38-29af419368a1"
      },
      "execution_count": 18,
      "outputs": [
        {
          "output_type": "stream",
          "name": "stdout",
          "text": [
            "enter a string : vaghela\n",
            "aaghelv\n"
          ]
        }
      ]
    },
    {
      "cell_type": "markdown",
      "source": [
        "Q9 Write a Python script that takes input from the user and displays that in upper and lower cases."
      ],
      "metadata": {
        "id": "pJHJGSEt2Tk5"
      }
    },
    {
      "cell_type": "code",
      "source": [
        "s = input(\"enter a string : \")\n",
        "print(s.upper())\n",
        "print(s.lower())"
      ],
      "metadata": {
        "id": "Td98QnJk26YZ",
        "colab": {
          "base_uri": "https://localhost:8080/"
        },
        "outputId": "b5ef21b9-0e5e-4487-facb-cb36d6bf7b46"
      },
      "execution_count": 20,
      "outputs": [
        {
          "output_type": "stream",
          "name": "stdout",
          "text": [
            "enter a string : vaghela\n",
            "VAGHELA\n",
            "vaghela\n"
          ]
        }
      ]
    },
    {
      "cell_type": "markdown",
      "source": [
        "# Can we change our string 'Hello' to 'Cello'? Lets try replacing the first letter H with C\n",
        "string='Hello'\n",
        "string[0] = 'C'\n",
        "\n",
        "# Concatenate strings!\n",
        "\n",
        "string1='abc'\n",
        "string2='def'\n",
        "num = 4\n",
        "\n",
        "print(string1 + 4 + string2)\n",
        "print(string1 + str(4) + string2)\n",
        "\n",
        "# Concatenate strings!\n",
        "string1='abc'\n",
        "string2='def'\n",
        "string1 + '4'+ string2full\n",
        "\n",
        "letters = 'wubba'\n",
        "letters*3"
      ],
      "metadata": {
        "id": "LF12J--ZrGVH"
      }
    },
    {
      "cell_type": "markdown",
      "source": [
        "# 2. Characteristics:\n",
        "•\tStrings are immutable; once created, their values cannot be changed.\n",
        "•\tOrdered: Characters have a specific order and can be accessed by their index."
      ],
      "metadata": {
        "id": "zmAMV1lJrOtU"
      }
    },
    {
      "cell_type": "markdown",
      "source": [
        "# 3. String Indexing\n",
        "•\tWe know strings are a sequence, which means Python can use indexes to call parts of the sequence.\n",
        "•\tA string index refers to the location of an element present in a string.\n",
        "•\tThe indexing begins from 0 in Python.\n",
        "•\tThe first element is assigned an index 0, the second element is assigned an index of 1 and so on and so forth.\n",
        "•\tIn Python, we use brackets [] after an object to call its index.\n",
        "\n",
        "# Assign string as a string\n",
        "string  = ’Bhagwati is a Data Analyst’\n",
        "print(string)\n",
        "\n",
        "print(string[5])\n",
        "print(string[10])\n",
        "print(string[-2])\n",
        "\n",
        "len(string)"
      ],
      "metadata": {
        "id": "FNCDpI9grTiO"
      }
    },
    {
      "cell_type": "markdown",
      "source": [
        "# 4. Slicing:\n",
        "•\tExtracting a portion of the string.\n",
        "•\tSyntax: string[start:stop:step].\n",
        "•\tWe can use a : to perform slicing which grabs everything up to a designated point.\n",
        "•\tThe starting index is specified on the left of the : and the ending index is specified on the right of the :.\n",
        "•\tRemember the element located at the right index is not included.\n",
        "\n",
        "# Assign string as a string\n",
        "name  = ‘Krishna is a Data Analyst’\n",
        "print(name)\n",
        "\n",
        "print(name)\n",
        "\n",
        "# Grab everything past the first term all the way to the length of s which is len(s)\n",
        "\n",
        "print(name [:13])\n",
        "\n",
        "print(name[10:])\n",
        "\n",
        "print(string[3:5])\n",
        "\n",
        "Everything\n",
        "print(string[:])\n",
        "print(string)\n",
        "\n",
        "string[-29]\n",
        "\n",
        "Grab everything, but go in steps size of 1\n",
        "print(string[::1])\n",
        "\n",
        "Grab everything, but go in step sizes of 5\n",
        "print(string[5:15:5])\n",
        "\n",
        "We can use this to print a string backwards with steps\n",
        "string[2:4:-1]"
      ],
      "metadata": {
        "id": "DnmxjWecrzx_"
      }
    }
  ]
}