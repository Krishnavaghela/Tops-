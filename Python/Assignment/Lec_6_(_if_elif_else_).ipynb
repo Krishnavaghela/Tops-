{
  "nbformat": 4,
  "nbformat_minor": 0,
  "metadata": {
    "colab": {
      "provenance": []
    },
    "kernelspec": {
      "name": "python3",
      "display_name": "Python 3"
    },
    "language_info": {
      "name": "python"
    }
  },
  "cells": [
    {
      "cell_type": "markdown",
      "source": [
        "Simple if statements:"
      ],
      "metadata": {
        "id": "AyLKgkfhnqbR"
      }
    },
    {
      "cell_type": "code",
      "execution_count": null,
      "metadata": {
        "colab": {
          "base_uri": "https://localhost:8080/"
        },
        "id": "iS8l20JrWYx4",
        "outputId": "e0bdb63f-40e6-4e73-f403-2d403c683965"
      },
      "outputs": [
        {
          "output_type": "stream",
          "name": "stdout",
          "text": [
            "Even\n"
          ]
        }
      ],
      "source": [
        "#Question 1: Write a Python program that checks if a given number is even. If it is, print \"Even number\".\n",
        "num = 8\n",
        "if num % 2 ==0:\n",
        "  print(\"Even\")"
      ]
    },
    {
      "cell_type": "code",
      "source": [
        "#Question 2: Write a Python program that checks if a given string contains the letter 'a'. If it does, print \"String contains 'a'\".\n",
        "string = 'krishna'\n",
        "if 'a' in s:\n",
        "  print(\"string contains 'a' \")\n",
        "else:\n",
        "  print(\"string dose not contains 'a'\")"
      ],
      "metadata": {
        "colab": {
          "base_uri": "https://localhost:8080/"
        },
        "id": "5j0UH2pRXcSS",
        "outputId": "6ea10a6f-bc2a-4bf7-9b31-988a4313729e"
      },
      "execution_count": null,
      "outputs": [
        {
          "output_type": "stream",
          "name": "stdout",
          "text": [
            "string contains 'a' \n"
          ]
        }
      ]
    },
    {
      "cell_type": "code",
      "source": [
        "#Question 3: Write a Python program that checks if a given year is a leap year. If it is, print \"Leap year\".\n",
        "year= 2004\n",
        "\n",
        "if year%400==0 or year%4==0 and year%100!=0:\n",
        "  print(\"leap year\")"
      ],
      "metadata": {
        "colab": {
          "base_uri": "https://localhost:8080/"
        },
        "id": "A3KqmU2yYBje",
        "outputId": "9ceae3b6-64be-4222-f1dd-22c293a3157a"
      },
      "execution_count": null,
      "outputs": [
        {
          "output_type": "stream",
          "name": "stdout",
          "text": [
            "leap year\n"
          ]
        }
      ]
    },
    {
      "cell_type": "code",
      "source": [
        "#Question 4: Write a Python program that checks if a given number is positive. If it is, print \"Positive number\".\n",
        "num = 6\n",
        "if num >0:\n",
        "  print(\"Positive\")"
      ],
      "metadata": {
        "colab": {
          "base_uri": "https://localhost:8080/"
        },
        "id": "DpMlIFgEYXCI",
        "outputId": "c0699a89-5d55-40f0-8ec4-6c0e3c555857"
      },
      "execution_count": null,
      "outputs": [
        {
          "output_type": "stream",
          "name": "stdout",
          "text": [
            "Positive\n"
          ]
        }
      ]
    },
    {
      "cell_type": "code",
      "source": [
        "#Question 5: Write a Python program that checks if a given character is a vowel. If it is, print \"Vowel\".\n",
        "charecter = 'a'\n",
        "v = ['a','e','i','o','u']\n",
        "if charecter in v:\n",
        "  print(\"vowel\")"
      ],
      "metadata": {
        "colab": {
          "base_uri": "https://localhost:8080/"
        },
        "id": "lkhkY5RJY2HA",
        "outputId": "e53a5c70-83e8-42a7-ea4d-1642b6850bf4"
      },
      "execution_count": null,
      "outputs": [
        {
          "output_type": "stream",
          "name": "stdout",
          "text": [
            "vowel\n"
          ]
        }
      ]
    },
    {
      "cell_type": "code",
      "source": [
        "#Question 6: Write a Python program that checks if a given number is greater than 100. If it is, print \"Greater than 100\".\n",
        "n = 101\n",
        "if n>100:\n",
        "  print(\"greater than 100\")"
      ],
      "metadata": {
        "colab": {
          "base_uri": "https://localhost:8080/"
        },
        "id": "adZSC_IgeprE",
        "outputId": "5dc9202b-e661-4cfd-9580-844e779db481"
      },
      "execution_count": null,
      "outputs": [
        {
          "output_type": "stream",
          "name": "stdout",
          "text": [
            "greater than 100\n"
          ]
        }
      ]
    },
    {
      "cell_type": "code",
      "source": [
        "#Question 7: Write a Python program that checks if a given string is empty. If it is, print \"Empty string\".\n",
        "s = \"\"\n",
        "if len(s)==0:\n",
        "  print(\"empty string\")"
      ],
      "metadata": {
        "colab": {
          "base_uri": "https://localhost:8080/"
        },
        "id": "O1UQuwxke_U_",
        "outputId": "20248392-c0cc-4041-93c7-e6e14b0227b8"
      },
      "execution_count": null,
      "outputs": [
        {
          "output_type": "stream",
          "name": "stdout",
          "text": [
            "empty string\n"
          ]
        }
      ]
    },
    {
      "cell_type": "code",
      "source": [
        "#Question 8: Write a Python program that checks if a given number is divisible by both 5 and 7. If it is, print \"Divisible by 5 and 7\".\n",
        "n=35\n",
        "if n % 5 ==0 and n % 7 ==0:\n",
        "  print(\"divisible by 5 and 7\")"
      ],
      "metadata": {
        "colab": {
          "base_uri": "https://localhost:8080/"
        },
        "id": "Z0IX1QITfXjx",
        "outputId": "27de4ec6-3c3b-443b-b014-b056302b9c60"
      },
      "execution_count": null,
      "outputs": [
        {
          "output_type": "stream",
          "name": "stdout",
          "text": [
            "divisible by 5 and 7\n"
          ]
        }
      ]
    },
    {
      "cell_type": "code",
      "source": [
        "#Question 9: Write a Python program that checks if a given list contains any negative numbers. If it does, print \"List contains negative numbers\".\n",
        "l = [1,2,-4,3,-2]\n",
        "for i in l:\n",
        "  if i < 0:\n",
        "    print(\"List contains negative numbers: \",i)\n",
        "\n"
      ],
      "metadata": {
        "id": "F2Fc-YCgfr5W",
        "colab": {
          "base_uri": "https://localhost:8080/"
        },
        "outputId": "96dc7b60-c023-4325-d2c2-531e831aaabc"
      },
      "execution_count": null,
      "outputs": [
        {
          "output_type": "stream",
          "name": "stdout",
          "text": [
            "List contains negative numbers:  -4\n",
            "List contains negative numbers:  -2\n"
          ]
        }
      ]
    },
    {
      "cell_type": "code",
      "source": [
        "#Question 10: Write a Python program that checks if a given word is a palindrome. If it is, print \"Palindrome\".\n",
        "w = 'nitin'\n",
        "if w == w[::-1]:\n",
        "  print(\"Palindrome\")"
      ],
      "metadata": {
        "colab": {
          "base_uri": "https://localhost:8080/"
        },
        "id": "-Cw7Y5QahmkT",
        "outputId": "1ed7d749-190e-4a39-bf9b-c3d9562d4fd6"
      },
      "execution_count": null,
      "outputs": [
        {
          "output_type": "stream",
          "name": "stdout",
          "text": [
            "Palindrome\n"
          ]
        }
      ]
    },
    {
      "cell_type": "markdown",
      "source": [
        "if-else statements:"
      ],
      "metadata": {
        "id": "uEKINFagnlBA"
      }
    },
    {
      "cell_type": "code",
      "source": [
        "#Question 11: Write a Python program that checks if a given number is positive. If it is, print \"Positive number\"; otherwise, print \"Negative number\".\n",
        "num = 6\n",
        "if num >0:\n",
        "  print(\"Positive\")\n",
        "else:\n",
        "  print(\"negative\")"
      ],
      "metadata": {
        "colab": {
          "base_uri": "https://localhost:8080/"
        },
        "id": "b1lJfkiViMC0",
        "outputId": "abc1e58a-174e-4a0b-8dec-3015724b661f"
      },
      "execution_count": null,
      "outputs": [
        {
          "output_type": "stream",
          "name": "stdout",
          "text": [
            "Positive\n"
          ]
        }
      ]
    },
    {
      "cell_type": "code",
      "source": [
        "#Question 12: Write a Python program that checks if a given string is empty. If it is, print \"Empty string\"; otherwise, print \"Non-empty string\".\n",
        "s = \"123\"\n",
        "if len(s)==0:\n",
        "  print(\"empty string\")\n",
        "else:\n",
        "  print(\"Non-empty string\")"
      ],
      "metadata": {
        "colab": {
          "base_uri": "https://localhost:8080/"
        },
        "id": "UWRgJl1KiYXg",
        "outputId": "300801ce-1e9c-490e-d216-f8d27b719318"
      },
      "execution_count": null,
      "outputs": [
        {
          "output_type": "stream",
          "name": "stdout",
          "text": [
            "Non-empty string\n"
          ]
        }
      ]
    },
    {
      "cell_type": "code",
      "source": [
        "#Question 13: Write a Python program that checks if a given number is even. If it is, print \"Even number\"; otherwise, print \"Odd number\".\n",
        "num = 7\n",
        "if num % 2 ==0:\n",
        "  print(\"Even\")\n",
        "else:\n",
        "  print(\"Odd number\")"
      ],
      "metadata": {
        "colab": {
          "base_uri": "https://localhost:8080/"
        },
        "id": "N4gdF-AMiuZs",
        "outputId": "cba257b8-8ae0-4484-e78f-27585e4d75f0"
      },
      "execution_count": null,
      "outputs": [
        {
          "output_type": "stream",
          "name": "stdout",
          "text": [
            "Odd number\n"
          ]
        }
      ]
    },
    {
      "cell_type": "code",
      "source": [
        "#Question 14: Write a Python program that checks if a given character is a vowel. If it is, print \"Vowel\"; otherwise, print \"Consonant\".\n",
        "charecter = 'b'\n",
        "v = ['a','e','i','o','u']\n",
        "if charecter in v:\n",
        "  print(\"vowel\")\n",
        "else:\n",
        "  print(\"Consonant\")"
      ],
      "metadata": {
        "colab": {
          "base_uri": "https://localhost:8080/"
        },
        "id": "Nk8iYACkjKZv",
        "outputId": "f095a0e3-ffe3-4f99-9e8d-416333ce345b"
      },
      "execution_count": null,
      "outputs": [
        {
          "output_type": "stream",
          "name": "stdout",
          "text": [
            "Consonant\n"
          ]
        }
      ]
    },
    {
      "cell_type": "code",
      "source": [
        "#Question 15: Write a Python program that checks if a given year is a leap year. If it is, print \"Leap year\"; otherwise, print \"Not a leap year\".\n",
        "year= 2006\n",
        "\n",
        "if year%400==0 or year%4==0 and year%100!=0:\n",
        "  print(\"leap year\")\n",
        "else:\n",
        "  print(\"Not a leap year\")"
      ],
      "metadata": {
        "colab": {
          "base_uri": "https://localhost:8080/"
        },
        "id": "21I6iU1NjqHF",
        "outputId": "3b05f6be-87af-43b5-b516-43d2b6874c89"
      },
      "execution_count": null,
      "outputs": [
        {
          "output_type": "stream",
          "name": "stdout",
          "text": [
            "Not a leap year\n"
          ]
        }
      ]
    },
    {
      "cell_type": "code",
      "source": [
        "#Question 16: Write a Python program that checks if a given number is divisible by 3. If it is, print \"Divisible by 3\"; otherwise, print \"Not divisible by 3\".\n",
        "n=43\n",
        "if n % 3 ==0:\n",
        "  print(\"divisible by 3\")\n",
        "else:\n",
        "  print('Not divisible by 3')"
      ],
      "metadata": {
        "colab": {
          "base_uri": "https://localhost:8080/"
        },
        "id": "VLfKWofxkIw1",
        "outputId": "5ff12131-be04-413b-a397-22fd0ffb1bd8"
      },
      "execution_count": null,
      "outputs": [
        {
          "output_type": "stream",
          "name": "stdout",
          "text": [
            "Not divisible by 3\n"
          ]
        }
      ]
    },
    {
      "cell_type": "code",
      "source": [
        "#Question 17: Write a Python program that checks if a given string is a palindrome. If it is, print \"Palindrome\"; otherwise, print \"Not a palindrome\".\n",
        "w = 'om'\n",
        "if w == w[::-1]:\n",
        "  print(\"Palindrome\")\n",
        "else:\n",
        "  print(\"Not a palindrome\")"
      ],
      "metadata": {
        "colab": {
          "base_uri": "https://localhost:8080/"
        },
        "id": "ABY-tOODkjUZ",
        "outputId": "84eb8ffb-67dc-4629-dda3-336bc2ac3239"
      },
      "execution_count": null,
      "outputs": [
        {
          "output_type": "stream",
          "name": "stdout",
          "text": [
            "Not a palindrome\n"
          ]
        }
      ]
    },
    {
      "cell_type": "code",
      "source": [
        "#Question 18: Write a Python program that checks if a given list is empty. If it is, print \"Empty list\"; otherwise, print \"Non-empty list\".\n",
        "l = []\n",
        "if len(l) ==0:\n",
        "  print(\"Empty list\")\n",
        "else:\n",
        "  print(\"Non-empty list\")"
      ],
      "metadata": {
        "colab": {
          "base_uri": "https://localhost:8080/"
        },
        "id": "b0RCg2Dlk1tF",
        "outputId": "287ddc9d-5ab6-4fbe-c57c-13ec4a598aed"
      },
      "execution_count": null,
      "outputs": [
        {
          "output_type": "stream",
          "name": "stdout",
          "text": [
            "Empty list\n"
          ]
        }
      ]
    },
    {
      "cell_type": "code",
      "source": [
        "#Question 19: Write a Python program that checks if a given number is greater than, less than, or equal to 50. Print the corresponding message.\n",
        "n = 55\n",
        "if n>50:\n",
        "  print('greater than 50')\n",
        "if n<50:\n",
        "  print(\"less than 50\")\n",
        "if n==50:\n",
        "  print(\"equal to 50\")"
      ],
      "metadata": {
        "colab": {
          "base_uri": "https://localhost:8080/"
        },
        "id": "CDXU1eNJlTLW",
        "outputId": "e8ffa085-3ff8-455f-d4a2-586374d4027c"
      },
      "execution_count": null,
      "outputs": [
        {
          "output_type": "stream",
          "name": "stdout",
          "text": [
            "greater than 50\n"
          ]
        }
      ]
    },
    {
      "cell_type": "code",
      "source": [
        "#Question 20: Write a Python program that checks if a given character is an uppercase letter. If it is, print \"Uppercase\"; otherwise, print \"Lowercase\".\n",
        "ch = 'A'\n",
        "\n",
        "if ch.isupper():\n",
        "  print( \"Uppercase\")\n",
        "else:\n",
        "  print(\"Lowercase\")"
      ],
      "metadata": {
        "colab": {
          "base_uri": "https://localhost:8080/"
        },
        "id": "toNxil4Jmij1",
        "outputId": "bdda5222-aff3-44de-e828-81b41d2543b8"
      },
      "execution_count": null,
      "outputs": [
        {
          "output_type": "stream",
          "name": "stdout",
          "text": [
            "Uppercase\n"
          ]
        }
      ]
    },
    {
      "cell_type": "markdown",
      "source": [
        "if-elif-else statements:"
      ],
      "metadata": {
        "id": "c55kzZwpnwx-"
      }
    },
    {
      "cell_type": "code",
      "source": [
        "#Question 21: Write a Python program that checks if a given number is positive, negative, or zero. Print the corresponding message.\n",
        "n = -3\n",
        "\n",
        "if n>0:\n",
        "  print(\"positive\")\n",
        "elif n<0:\n",
        "  print(\"negetive\")\n",
        "else:\n",
        "  print(\"zero\")"
      ],
      "metadata": {
        "colab": {
          "base_uri": "https://localhost:8080/"
        },
        "id": "HcQupWhHndLG",
        "outputId": "f6f3cf25-fa91-4540-fbe8-a732d70e93f4"
      },
      "execution_count": null,
      "outputs": [
        {
          "output_type": "stream",
          "name": "stdout",
          "text": [
            "negetive\n"
          ]
        }
      ]
    },
    {
      "cell_type": "code",
      "source": [
        "#Question 22: Write a Python program that compares two numbers and prints the larger number.\n",
        "a = 10\n",
        "b = 8\n",
        "if a>b:\n",
        "  print(\"a is larger\")\n",
        "elif a<b:\n",
        "  print(\"b is larger\")\n",
        "else:\n",
        "  print(\"a equals b\")\n"
      ],
      "metadata": {
        "colab": {
          "base_uri": "https://localhost:8080/"
        },
        "id": "C1zVMK_Xod50",
        "outputId": "1e13c588-4359-4f1a-ed2e-696961cd8bc5"
      },
      "execution_count": null,
      "outputs": [
        {
          "output_type": "stream",
          "name": "stdout",
          "text": [
            "a is larger\n"
          ]
        }
      ]
    },
    {
      "cell_type": "code",
      "source": [
        "#Question 23: Write a Python program that determines whether a given temperature is hot, warm, or cold. Print the corresponding message.\n",
        "temp = 35\n",
        "\n",
        "if temp < 25:\n",
        "  print(\"cold\")\n",
        "elif temp < 35:\n",
        "  print(\"warm\")\n",
        "else:\n",
        "  print(\"hot\")"
      ],
      "metadata": {
        "colab": {
          "base_uri": "https://localhost:8080/"
        },
        "id": "WqZtvTD7pcX7",
        "outputId": "e7470889-5bbd-4848-fc1d-2afbefd8be58"
      },
      "execution_count": null,
      "outputs": [
        {
          "output_type": "stream",
          "name": "stdout",
          "text": [
            "hot\n"
          ]
        }
      ]
    },
    {
      "cell_type": "code",
      "source": [
        "#Question 24: Write a Python program that checks if a given year is a leap year, a century year, or neither. Print the corresponding message.\n",
        "y = 2100\n",
        "\n",
        "if y % 400 == 0 and (y % 400 == 0 or y % 4==0 and y % 100 !=0):\n",
        "  print(\"century year and leap year\")\n",
        "elif y % 400 == 0 or y % 4==0 and y % 100 !=0:\n",
        "  print(\"leap year\")\n",
        "elif y % 100 == 0:\n",
        "  print(\"century year\")\n",
        "else:\n",
        "  print(\"neither\")"
      ],
      "metadata": {
        "colab": {
          "base_uri": "https://localhost:8080/"
        },
        "id": "cywWjsUxupBU",
        "outputId": "5d83b854-9169-4141-cece-98eab9da66a8"
      },
      "execution_count": null,
      "outputs": [
        {
          "output_type": "stream",
          "name": "stdout",
          "text": [
            "century year\n"
          ]
        }
      ]
    },
    {
      "cell_type": "code",
      "source": [
        "#Question 25: Write a Python program that categorizes a given character into uppercase letter, lowercase letter, digit, or special character. Print the corresponding message.\n",
        "character = '#'\n",
        "\n",
        "if character.isupper():\n",
        "  print(\"uppercase letter\")\n",
        "elif character.islower():\n",
        "  print(\"lowercase letter\")\n",
        "elif character.isdigit():\n",
        "  print(\"digit\")\n",
        "else:\n",
        "  print(\"special charater\")"
      ],
      "metadata": {
        "id": "zVs0yaTtutyn",
        "colab": {
          "base_uri": "https://localhost:8080/"
        },
        "outputId": "e0887400-ca90-4768-cb9d-d22f12b34c3e"
      },
      "execution_count": null,
      "outputs": [
        {
          "output_type": "stream",
          "name": "stdout",
          "text": [
            "special charater\n"
          ]
        }
      ]
    },
    {
      "cell_type": "code",
      "source": [
        "#Question 26: Write a Python program that calculates the discount percentage based on the purchase amount. Print the corresponding discount percentage.\n",
        "amt = int(input(\"Enter purchase amount: \"))\n",
        "if amt >= 1000:\n",
        "  discount = 5\n",
        "  print(\"Amount after dicount for \",amt,\" = \",(amt - (amt/discount)))\n",
        "elif amt >= 2500:\n",
        "  discount = 10\n",
        "  print(\"Amount after dicount for \",amt,\" = \",(amt - (amt/discount)))\n",
        "elif amt >= 4000:\n",
        "  discount = 20\n",
        "  print(\"Amount after dicount for \",amt,\" = \",(amt - (amt/discount)))\n",
        "elif amt < 1000:\n",
        "  print(\"No discount for \",amt)"
      ],
      "metadata": {
        "id": "sWgEmHVKuwxb",
        "colab": {
          "base_uri": "https://localhost:8080/"
        },
        "outputId": "c6fec5f3-ffa4-4825-959b-b9a3ab01f2a4"
      },
      "execution_count": null,
      "outputs": [
        {
          "output_type": "stream",
          "name": "stdout",
          "text": [
            "Enter purchase amount: 500\n",
            "No discount for  500\n"
          ]
        }
      ]
    },
    {
      "cell_type": "code",
      "source": [
        "#Question 27: Write a Python program that checks if a given number is divisible by 2, 3, 5, or none of them. Print the corresponding message.\n",
        "number = 90\n",
        "\n",
        "if number % 2==0 and number % 3==0 and number % 5==0:\n",
        "  print(\"number is divisible by all 2,3,5\")\n",
        "elif number % 2==0 and number % 3==0:\n",
        "  print(\"number is divisible by both 2 and 3\")\n",
        "elif number % 2==0 and number % 5==0:\n",
        "  print(\"number is divisible by both 2 and 5\")\n",
        "elif number % 3==0 and number % 5==0:\n",
        "  print(\"number is divisible by both 3 and 5\")\n",
        "elif number % 2 == 0:\n",
        "  print(\"number is divisible by 2\")\n",
        "elif number % 3 == 0:\n",
        "  print(\"number is divisible by 3\")\n",
        "elif number % 5 == 0:\n",
        "  print(\"number is divisible by 5\")\n",
        "else:\n",
        "  print(\"none of them\")"
      ],
      "metadata": {
        "id": "iMwCqWuUu3Ro",
        "colab": {
          "base_uri": "https://localhost:8080/"
        },
        "outputId": "904cc3a0-75a9-4efc-9ea3-ef3371921965"
      },
      "execution_count": null,
      "outputs": [
        {
          "output_type": "stream",
          "name": "stdout",
          "text": [
            "number is divisible by all 2,3,5\n"
          ]
        }
      ]
    },
    {
      "cell_type": "code",
      "source": [
        "#Question 28: Write a Python program that determines the grade based on the percentage obtained. Print the corresponding grade.\n",
        "percentage = 45\n",
        "\n",
        "if percentage > 80:\n",
        "  print(\"Grade A\")\n",
        "elif percentage > 65:\n",
        "  print(\"Grade B\")\n",
        "elif percentage > 50:\n",
        "  print(\"Grade c\")\n",
        "else:\n",
        "  print(\"Grade D\")"
      ],
      "metadata": {
        "id": "d-YneGYlu8R2",
        "colab": {
          "base_uri": "https://localhost:8080/"
        },
        "outputId": "b66fb619-9ea1-4387-f54a-3d785ad9dc74"
      },
      "execution_count": null,
      "outputs": [
        {
          "output_type": "stream",
          "name": "stdout",
          "text": [
            "Grade D\n"
          ]
        }
      ]
    },
    {
      "cell_type": "code",
      "source": [
        "#Question 29: Write a Python program that checks if a given number is within a specific range. Print the corresponding message.\n",
        "lower_range = 5\n",
        "upper_range = 95\n",
        "\n",
        "num = 4\n",
        "\n",
        "if lower_range <= num <= upper_range:\n",
        "  print(\"The number is in range\")\n",
        "else:\n",
        "  print(\"The number is not in range\")"
      ],
      "metadata": {
        "id": "-JFDbX91vAar",
        "colab": {
          "base_uri": "https://localhost:8080/"
        },
        "outputId": "9345804e-3aa9-448f-f18b-51d9ae6a7fa8"
      },
      "execution_count": null,
      "outputs": [
        {
          "output_type": "stream",
          "name": "stdout",
          "text": [
            "The number is not in range\n"
          ]
        }
      ]
    },
    {
      "cell_type": "code",
      "source": [
        "#Question 30: Write a Python program that checks if a given string is an English word, a number, or a combination of both. Print the corresponding message.\n",
        "str3 = input(\"Enter string: \")\n",
        "len_alp = 0\n",
        "len_dig =0\n",
        "for i in str3:\n",
        "  if i.isalpha() == True:\n",
        "    len_alp +=1\n",
        "  elif i.isdigit() == True:\n",
        "    len_dig += 1\n",
        "\n",
        "if len(str3) == len_alp:\n",
        "  print(\"String contains English word\")\n",
        "elif len(str3) == len_dig:\n",
        "  print(\"String contains numbers\")\n",
        "elif len(str3) == (len_alp+len_dig):\n",
        "  print(\"String is combination of both\")"
      ],
      "metadata": {
        "id": "gXFyewFqvJJf",
        "colab": {
          "base_uri": "https://localhost:8080/"
        },
        "outputId": "f786746d-a05f-422a-c681-282935cc2248"
      },
      "execution_count": null,
      "outputs": [
        {
          "output_type": "stream",
          "name": "stdout",
          "text": [
            "Enter string: om15\n",
            "String is combination of both\n"
          ]
        }
      ]
    }
  ]
}