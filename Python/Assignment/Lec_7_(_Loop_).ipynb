{
  "nbformat": 4,
  "nbformat_minor": 0,
  "metadata": {
    "colab": {
      "provenance": []
    },
    "kernelspec": {
      "name": "python3",
      "display_name": "Python 3"
    },
    "language_info": {
      "name": "python"
    }
  },
  "cells": [
    {
      "cell_type": "code",
      "execution_count": 9,
      "metadata": {
        "id": "wAbC6Zt_5JPI",
        "colab": {
          "base_uri": "https://localhost:8080/"
        },
        "outputId": "a419d4a8-48a8-48c8-ce5e-043d2066fba7"
      },
      "outputs": [
        {
          "output_type": "stream",
          "name": "stdout",
          "text": [
            "10\n"
          ]
        }
      ],
      "source": [
        "# 1.\tGiven a list [4, 8, 2, 10, 6], find the maximum number using a for loop.\n",
        "\n",
        "a = [4, 8, 2, 10, 6]\n",
        "\n",
        "max_no=a[0]\n",
        "for i in a:\n",
        " if i>max_no:\n",
        "  max_no=i\n",
        "print(max_no)\n"
      ]
    },
    {
      "cell_type": "code",
      "source": [
        "# 2.\tTake input from the user and find the factorial of the number using a for loop.\n",
        "\n",
        "a = int(input(\"Enter a num :\"))\n",
        "factorial = 1\n",
        "if a < 0:\n",
        "  print(\"invalid\")\n",
        "elif a==0:\n",
        "  print(1)\n",
        "else:\n",
        "  for i in range(1,a+1):\n",
        "    factorial *= i\n",
        "  print(factorial)"
      ],
      "metadata": {
        "id": "BbFXS3oT5ave",
        "colab": {
          "base_uri": "https://localhost:8080/"
        },
        "outputId": "d49b819a-a6f5-4fd5-8459-c8edd0c3cce0"
      },
      "execution_count": 66,
      "outputs": [
        {
          "output_type": "stream",
          "name": "stdout",
          "text": [
            "Enter a num :5\n",
            "120\n"
          ]
        }
      ]
    },
    {
      "cell_type": "code",
      "source": [
        "# 3.\tGiven a list ['apple', 'banana', 'cherry', 'date', 'fig'], print each element along with its index using a for loop.\n",
        "\n",
        "a = ['apple', 'banana', 'cherry', 'date', 'fig']\n",
        "\n",
        "for index, element in enumerate(a):\n",
        "    print(\"Index {index}: {element}\")\n",
        ""
      ],
      "metadata": {
        "id": "Y0qOLTlU5bP-",
        "colab": {
          "base_uri": "https://localhost:8080/"
        },
        "outputId": "a8b7b02d-f4a8-40cf-af84-5e90d682b106"
      },
      "execution_count": 75,
      "outputs": [
        {
          "output_type": "stream",
          "name": "stdout",
          "text": [
            "Index 0: apple\n",
            "Index 1: banana\n",
            "Index 2: cherry\n",
            "Index 3: date\n",
            "Index 4: fig\n"
          ]
        }
      ]
    },
    {
      "cell_type": "code",
      "source": [
        "from itertools import count\n",
        "# 4.\tTake a string input from the user and count the number of uppercase letters using a for loop.(use char.isupper()😊)\n",
        "\n",
        "a = input(\"enter a string :\")\n",
        "\n",
        "u_count = 0\n",
        "\n",
        "for char in a:\n",
        "  if char.isupper():\n",
        "    u_count += 1\n",
        "print(u_count)"
      ],
      "metadata": {
        "id": "t4mStmsw5bcc",
        "colab": {
          "base_uri": "https://localhost:8080/"
        },
        "outputId": "2860e3ac-cd29-40a4-83c2-858641012760"
      },
      "execution_count": 91,
      "outputs": [
        {
          "output_type": "stream",
          "name": "stdout",
          "text": [
            "enter a string :KRISHNA\n",
            "7\n"
          ]
        }
      ]
    },
    {
      "cell_type": "code",
      "source": [
        "# 5.\tGiven a list of integers [17, 25, 39, 42, 58, 71, 86, 93], find the sum of all the even numbers using a for loop.\n",
        "\n",
        "l = [17, 25, 39, 42, 58, 71, 86, 93]\n",
        "\n",
        "sum=0\n",
        "\n",
        "for i in l:\n",
        "  if i%2==0:\n",
        "    sum+=i\n",
        "print(sum)\n",
        ""
      ],
      "metadata": {
        "id": "7oNVaQIT5bl9",
        "colab": {
          "base_uri": "https://localhost:8080/"
        },
        "outputId": "662384b0-385a-4c39-9472-ba068aaf5985"
      },
      "execution_count": 96,
      "outputs": [
        {
          "output_type": "stream",
          "name": "stdout",
          "text": [
            "186\n"
          ]
        }
      ]
    },
    {
      "cell_type": "code",
      "source": [
        "# 6.\tGiven a list [3, 6, 9, 12, 15], calculate the product of all the elements using a for loop.\n",
        "\n",
        "l = [3, 6, 9, 12, 15]\n",
        "\n",
        "p=1\n",
        "for i in l:\n",
        "  p*=i\n",
        "print(p)"
      ],
      "metadata": {
        "id": "MmqVjW775bxn",
        "colab": {
          "base_uri": "https://localhost:8080/"
        },
        "outputId": "46d4f05f-5068-4a81-c151-60fabef16426"
      },
      "execution_count": 97,
      "outputs": [
        {
          "output_type": "stream",
          "name": "stdout",
          "text": [
            "29160\n"
          ]
        }
      ]
    },
    {
      "cell_type": "code",
      "source": [
        "# 7.\tGiven a list [2, 3, 5, 7, 11, 13, 17, 19], find the index of the first occurrence of the number 7 using a for loop.\n",
        "l = [2, 3, 5, 7, 11, 13, 17, 19]\n",
        "\n",
        "for i in range(len(l)):\n",
        "    if l[i] == 7:\n",
        "        index = i\n",
        "print(index)\n",
        ""
      ],
      "metadata": {
        "id": "ExQ7dihS5b8E",
        "colab": {
          "base_uri": "https://localhost:8080/"
        },
        "outputId": "5ae1380f-97c1-4498-d2c0-ffb85f327ab0"
      },
      "execution_count": 101,
      "outputs": [
        {
          "output_type": "stream",
          "name": "stdout",
          "text": [
            "3\n"
          ]
        }
      ]
    }
  ]
}