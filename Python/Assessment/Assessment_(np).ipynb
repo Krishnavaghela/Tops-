{
  "nbformat": 4,
  "nbformat_minor": 0,
  "metadata": {
    "colab": {
      "provenance": []
    },
    "kernelspec": {
      "name": "python3",
      "display_name": "Python 3"
    },
    "language_info": {
      "name": "python"
    }
  },
  "cells": [
    {
      "cell_type": "code",
      "source": [
        "import numpy as np"
      ],
      "metadata": {
        "id": "ZoclALDqE3Z-"
      },
      "execution_count": null,
      "outputs": []
    },
    {
      "cell_type": "code",
      "execution_count": null,
      "metadata": {
        "colab": {
          "base_uri": "https://localhost:8080/"
        },
        "id": "JuawrlueET9n",
        "outputId": "ea4375af-c2aa-40cf-d489-a0b4ee0fa605"
      },
      "outputs": [
        {
          "output_type": "stream",
          "name": "stdout",
          "text": [
            "1D array : \n",
            "[1 3 5 4 9 8 6 7]\n",
            "\n",
            "2D array : \n",
            "[[1 3 5 4]\n",
            " [9 8 6 7]]\n"
          ]
        }
      ],
      "source": [
        "# Q.1 Convert a 1D array to a 2D array with 2 rows\n",
        "\n",
        "a = np.array([1,3,5,4,9,8,6,7])\n",
        "b = a.reshape(2,-1)\n",
        "\n",
        "print(\"1D array : \")\n",
        "print(a)\n",
        "print(\"\\n2D array : \")\n",
        "print(b)\n"
      ]
    },
    {
      "cell_type": "code",
      "source": [
        "# Q.2 Get the common items between a and b\n",
        "\n",
        "a = np.array([1,2,3,2,3,4,3,4,5,6])\n",
        "b = np.array([7,2,10,2,7,4,9,4,9,8])\n",
        "\n",
        "c = np.intersect1d(a,b)\n",
        "c"
      ],
      "metadata": {
        "colab": {
          "base_uri": "https://localhost:8080/"
        },
        "id": "gJY2Zup8GrmC",
        "outputId": "6d5d9fd6-eb1f-4a0c-944e-fa39aed520ea"
      },
      "execution_count": 24,
      "outputs": [
        {
          "output_type": "execute_result",
          "data": {
            "text/plain": [
              "array([2, 4])"
            ]
          },
          "metadata": {},
          "execution_count": 24
        }
      ]
    },
    {
      "cell_type": "code",
      "source": [
        "# Q.3 Get all items between 5 and 10 from a.\n",
        "\n",
        "a = np.array([2, 6, 1, 9, 10, 3, 27])\n",
        "\n",
        "b = a[(a>=5)&(a<=10)]\n",
        "b"
      ],
      "metadata": {
        "id": "NQ8y8PUdHa67",
        "colab": {
          "base_uri": "https://localhost:8080/"
        },
        "outputId": "22e59429-b939-4574-808f-86c9b5b82791"
      },
      "execution_count": 23,
      "outputs": [
        {
          "output_type": "execute_result",
          "data": {
            "text/plain": [
              "array([ 6,  9, 10])"
            ]
          },
          "metadata": {},
          "execution_count": 23
        }
      ]
    },
    {
      "cell_type": "code",
      "source": [
        "# Q.4 Limit the number of items printed in python NumPy array a to a maximum of 6 elements.\n",
        "\n",
        "a = np.array([ 0, 1, 2, 3, 4, 5, 6, 7, 8, 9, 10, 11, 12, 13, 14])\n",
        "\n",
        "a"
      ],
      "metadata": {
        "colab": {
          "base_uri": "https://localhost:8080/"
        },
        "id": "Jpf4Z4iqKApT",
        "outputId": "f89aa450-cbe2-4df7-d838-b74332ddc3aa"
      },
      "execution_count": 27,
      "outputs": [
        {
          "output_type": "execute_result",
          "data": {
            "text/plain": [
              "array([ 0,  1,  2,  3,  4,  5,  6,  7,  8,  9, 10, 11, 12, 13, 14])"
            ]
          },
          "metadata": {},
          "execution_count": 27
        }
      ]
    }
  ]
}